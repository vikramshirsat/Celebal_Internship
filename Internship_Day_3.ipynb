{
 "cells": [
  {
   "cell_type": "markdown",
   "metadata": {
    "id": "Y5AOT54PmUjl"
   },
   "source": [
    "Number Data Type in Python"
   ]
  },
  {
   "cell_type": "markdown",
   "metadata": {
    "id": "oqSvOZzFPrkW"
   },
   "source": [
    "Binary 0b' or '0B'\n",
    "\n",
    "\n",
    "---\n",
    "\n",
    "\n",
    "Octal 0o' or '0O'\n",
    "\n",
    "\n",
    "---\n",
    "\n",
    "\n",
    "Hexadecimal 0x' or '0X'\n",
    "\n",
    "---\n",
    "\n"
   ]
  },
  {
   "cell_type": "code",
   "execution_count": 1,
   "metadata": {
    "colab": {
     "base_uri": "https://localhost:8080/"
    },
    "id": "9HmlfKXFmUI4",
    "outputId": "4da3a4ae-2b19-46a8-9e3c-07a3ef919dcf"
   },
   "outputs": [
    {
     "name": "stdout",
     "output_type": "stream",
     "text": [
      "<class 'int'>\n",
      "<class 'float'>\n",
      "(8+3j)\n",
      "False\n"
     ]
    }
   ],
   "source": [
    "print(type(5))\n",
    "a = 10 \n",
    "print(type(5.0))\n",
    "c = 5 + 3j\n",
    "print(c + 3)\n",
    "print(isinstance(a, complex))"
   ]
  },
  {
   "cell_type": "code",
   "execution_count": 2,
   "metadata": {
    "colab": {
     "base_uri": "https://localhost:8080/"
    },
    "id": "aiZtZ8aflnIt",
    "outputId": "e11167a5-b894-42e9-b8e9-c850ad3c0c77"
   },
   "outputs": [
    {
     "name": "stdout",
     "output_type": "stream",
     "text": [
      "<class 'int'>\n",
      "<class 'float'>\n",
      "<class 'complex'>\n"
     ]
    }
   ],
   "source": [
    "a = 20\n",
    "b = 20.5\n",
    "c = 1j\n",
    "print(type(a))\n",
    "print(type(b))\n",
    "print(type(c))"
   ]
  },
  {
   "cell_type": "code",
   "execution_count": 3,
   "metadata": {
    "colab": {
     "base_uri": "https://localhost:8080/"
    },
    "id": "lF0pUN-1o7FR",
    "outputId": "f4be3cf7-9cc7-426b-89ad-aca0fa07cc17"
   },
   "outputs": [
    {
     "name": "stdout",
     "output_type": "stream",
     "text": [
      "<class 'int'>\n",
      "107\n",
      "<class 'int'>\n",
      "253\n",
      "<class 'int'>\n",
      "13\n"
     ]
    }
   ],
   "source": [
    "x = 0b1101011\n",
    "y = 0xFB + 0b10\n",
    "z = 0o15\n",
    "print(type(x))\n",
    "print(x)\n",
    "print(type(y))\n",
    "print(y)\n",
    "print(type(z))\n",
    "print(z)"
   ]
  },
  {
   "cell_type": "markdown",
   "metadata": {
    "id": "Oly1aIOxqdrZ"
   },
   "source": [
    "List in Python"
   ]
  },
  {
   "cell_type": "code",
   "execution_count": 6,
   "metadata": {
    "id": "brCuw1uKpoKN"
   },
   "outputs": [],
   "source": [
    "my_list1 = [] #Empty list\n",
    "my_list2 = [1, 2, 3] #Single data type (int only)\n",
    "my_list3 = [1, \"Hello\", 3.4] #Mixed data type\n",
    "my_list4 = [\"PYTHON\", [8, 4, 6], ['a']] #nested list(address,multiple phone numners)"
   ]
  },
  {
   "cell_type": "code",
   "execution_count": 7,
   "metadata": {
    "colab": {
     "base_uri": "https://localhost:8080/",
     "height": 280
    },
    "id": "49AqvbMorfY-",
    "outputId": "bd66fc4c-36b5-4132-a229-d1e6dbcfd62a"
   },
   "outputs": [
    {
     "name": "stdout",
     "output_type": "stream",
     "text": [
      "['p', 'e', 'o', 'p', 'l', 'e']\n",
      "p\n",
      "o\n",
      "l\n"
     ]
    }
   ],
   "source": [
    "my_list = ['p', 'e', 'o', 'p', 'l', 'e']\n",
    "print(my_list)\n",
    "print(my_list[0])  # first item (starts on oth index)\n",
    "print(my_list[2])  # third item\n",
    "print(my_list[4])  # fifth item\n",
    "# print(my_list[8])  "
   ]
  },
  {
   "cell_type": "code",
   "execution_count": 8,
   "metadata": {
    "colab": {
     "base_uri": "https://localhost:8080/"
    },
    "id": "qLW7-gQ5s9bz",
    "outputId": "a7f8cdb2-02ef-4721-af2d-a937934e0cab"
   },
   "outputs": [
    {
     "name": "stdout",
     "output_type": "stream",
     "text": [
      "['Happy', [2, 0, 2, 2]]\n",
      "a\n",
      "2\n"
     ]
    }
   ],
   "source": [
    "# Nested List\n",
    "n_list = [\"Happy\", [2, 0, 2, 2]]\n",
    "print(n_list)\n",
    "print(n_list[0][1])\n",
    "print(n_list[1][3])"
   ]
  },
  {
   "cell_type": "code",
   "execution_count": 9,
   "metadata": {
    "colab": {
     "base_uri": "https://localhost:8080/"
    },
    "id": "P5qiY6C-sDus",
    "outputId": "8490b3bf-57a5-4232-91aa-be67a164ee38"
   },
   "outputs": [
    {
     "name": "stdout",
     "output_type": "stream",
     "text": [
      "e\n",
      "z\n"
     ]
    }
   ],
   "source": [
    "# Negative indexing in lists\n",
    "neg_list = ['p', 'z', 'o', 'x', 'l', 'e']\n",
    "# last item\n",
    "print(neg_list[-1])\n",
    "# fifth last item\n",
    "print(neg_list[-5])"
   ]
  },
  {
   "cell_type": "code",
   "execution_count": 10,
   "metadata": {
    "colab": {
     "base_uri": "https://localhost:8080/"
    },
    "id": "E3QcjAGEtEYt",
    "outputId": "995cd050-4e32-4a83-db26-df9b970795f9"
   },
   "outputs": [
    {
     "name": "stdout",
     "output_type": "stream",
     "text": [
      "[1, 4, 6, 8, 10]\n",
      "[1, 3, 5, 7, 9, 10]\n"
     ]
    }
   ],
   "source": [
    "# Correcting mistake values in a list\n",
    "odd = [2, 4, 6, 8,10]\n",
    "\n",
    "# change the 1st item    \n",
    "odd[0] = 1           \n",
    "print(odd)\n",
    "\n",
    "# change 2nd to 4th items\n",
    "odd[1:4] = [3, 5, 7,9]  \n",
    "print(odd)                   "
   ]
  },
  {
   "cell_type": "markdown",
   "metadata": {
    "id": "EpVGR70A0Id4"
   },
   "source": [
    "Tuples"
   ]
  },
  {
   "cell_type": "code",
   "execution_count": 11,
   "metadata": {
    "colab": {
     "base_uri": "https://localhost:8080/"
    },
    "id": "TG3AVJslwE30",
    "outputId": "edec690d-1e49-4727-89d7-e0a971bfa48b"
   },
   "outputs": [
    {
     "name": "stdout",
     "output_type": "stream",
     "text": [
      "()\n",
      "(1, 2, 3)\n",
      "(1, 'Hello', 3.4)\n",
      "('TUPLES', [8, 4, 6], (1, 2, 3))\n"
     ]
    }
   ],
   "source": [
    "# Different types of tuples\n",
    "my_tuple = () # Empty tuple\n",
    "print(my_tuple)\n",
    "my_tuple = (1, 2, 3) # Tuple having integers\n",
    "print(my_tuple)\n",
    "my_tuple = (1, \"Hello\", 3.4) # tuple with mixed datatypes\n",
    "print(my_tuple)\n",
    "my_tuple = (\"TUPLES\", [8, 4, 6], (1, 2, 3)) # nested tuple\n",
    "print(my_tuple)"
   ]
  },
  {
   "cell_type": "code",
   "execution_count": 12,
   "metadata": {
    "colab": {
     "base_uri": "https://localhost:8080/"
    },
    "id": "mATb1lyI2YIs",
    "outputId": "9d07be64-d545-4f97-f1a5-9c3be0be846a"
   },
   "outputs": [
    {
     "name": "stdout",
     "output_type": "stream",
     "text": [
      "p\n",
      "t\n",
      "s\n",
      "4\n"
     ]
    }
   ],
   "source": [
    "# Accessing tuple elements using indexing\n",
    "i_tuple = ('p','e','r','m','i','t')\n",
    "\n",
    "print(i_tuple[0])   # 'p' \n",
    "print(i_tuple[5])   # 't'\n",
    "\n",
    "# nested tuple\n",
    "n_tuple = (\"mouse\", [8, 4, 6], (1, 2, 3))\n",
    "# nested index\n",
    "print(n_tuple[0][3])       # 's'\n",
    "print(n_tuple[1][1])       # 4"
   ]
  },
  {
   "cell_type": "code",
   "execution_count": 13,
   "metadata": {
    "colab": {
     "base_uri": "https://localhost:8080/",
     "height": 225
    },
    "id": "d62aeK6527BM",
    "outputId": "5c2c9fd9-5dd5-4483-91c1-a9c58ccee3db"
   },
   "outputs": [
    {
     "name": "stdout",
     "output_type": "stream",
     "text": [
      "t\n",
      "i\n"
     ]
    }
   ],
   "source": [
    "# Negative indexing for accessing tuple elements\n",
    "neg_tuple = ('p', 'e', 'r', 'm', 'i', 't')\n",
    "print(neg_tuple[-1])\n",
    "print(neg_tuple[-2])"
   ]
  },
  {
   "cell_type": "code",
   "execution_count": 14,
   "metadata": {
    "colab": {
     "base_uri": "https://localhost:8080/"
    },
    "id": "Tc4hpOcq3L4e",
    "outputId": "a5deaf05-5be4-4657-f374-c31fe8e0f4a0"
   },
   "outputs": [
    {
     "name": "stdout",
     "output_type": "stream",
     "text": [
      "(4, 2, 3, [6, 5, 5, 8])\n",
      "(4, 2, 3, [[1, 2, 3, 4], 5, 5, 8])\n"
     ]
    }
   ],
   "source": [
    "# Changing tuple values\n",
    "my_tuple = (4, 2, 3, [6, 5,5,8])\n",
    "# my_tuple[1] = 9\n",
    "\n",
    "print(my_tuple)\n",
    "\n",
    "my_tuple[3][0] = [1,2,3,4]    # However, item of mutable element can be changed\n",
    "# print(my_tuple)\n",
    "\n",
    "# my_tuple = ('p', 'r', 'o', 'g', 'r', 'a', 'm', 'i', 'z') # Tuples can be reassigned\n",
    "print(my_tuple)"
   ]
  },
  {
   "cell_type": "code",
   "execution_count": 15,
   "metadata": {
    "id": "FfMyMDF1exjC"
   },
   "outputs": [],
   "source": [
    "# print(my_tuple[1][0:1])\n"
   ]
  },
  {
   "cell_type": "markdown",
   "metadata": {
    "id": "HsvmrbwK79Zr"
   },
   "source": [
    "Strings in Python"
   ]
  },
  {
   "cell_type": "code",
   "execution_count": 16,
   "metadata": {
    "colab": {
     "base_uri": "https://localhost:8080/"
    },
    "id": "cAVh4Bhd6fiR",
    "outputId": "547e4910-cffa-4a52-8cd3-a24211fa815d"
   },
   "outputs": [
    {
     "name": "stdout",
     "output_type": "stream",
     "text": [
      "<class 'str'>\n",
      "Hello\n",
      "Hello\n",
      "Hello\n",
      "Hello, welcome to\n",
      "           the world of Python\n"
     ]
    }
   ],
   "source": [
    "my_string = 'a'\n",
    "print(type(my_string))\n",
    "\n",
    "my_string = 'Hello'\n",
    "print(my_string)\n",
    "\n",
    "my_string = \"Hello\"\n",
    "print(my_string)\n",
    "\n",
    "my_string = '''Hello'''\n",
    "print(my_string)\n",
    "\n",
    "my_string = \"\"\"Hello, welcome to\n",
    "           the world of Python\"\"\" # triple quotes string can extend multiple lines\n",
    "print(my_string)"
   ]
  },
  {
   "cell_type": "code",
   "execution_count": 17,
   "metadata": {
    "colab": {
     "base_uri": "https://localhost:8080/"
    },
    "id": "5LKN3W1R8AXC",
    "outputId": "7104364f-9505-49e7-a930-cc5baea96711"
   },
   "outputs": [
    {
     "name": "stdout",
     "output_type": "stream",
     "text": [
      "str =  programiz\n",
      "str[0] =  p\n",
      "str[-1] =  z\n",
      "str[1:5] =  rogr\n",
      "str[5:-2] =  am\n",
      "b\n"
     ]
    }
   ],
   "source": [
    "#Accessing string characters in Python\n",
    "str = 'programiz' #immutable\n",
    "print('str = ', str)\n",
    "\n",
    "print('str[0] = ', str[0])\n",
    "\n",
    "print('str[-1] = ', str[-1])\n",
    "\n",
    "print('str[1:5] = ', str[1:5])\n",
    "\n",
    "print('str[5:-2] = ', str[5:-2])\n",
    "str = 'b' #reassinged\n",
    "print(str)"
   ]
  },
  {
   "cell_type": "markdown",
   "metadata": {
    "id": "LmgZjc1P_Glg"
   },
   "source": [
    "Sets in Python"
   ]
  },
  {
   "cell_type": "code",
   "execution_count": 18,
   "metadata": {
    "colab": {
     "base_uri": "https://localhost:8080/"
    },
    "id": "cRVWau3p8Sh7",
    "outputId": "de8e8432-c265-41b9-fc03-e716c33faf0c"
   },
   "outputs": [
    {
     "name": "stdout",
     "output_type": "stream",
     "text": [
      "{1, 2, 3}\n",
      "{1.0, (1, 2, 3), 'Hello'}\n"
     ]
    }
   ],
   "source": [
    "# Different types of sets in Python\n",
    "# set of integers\n",
    "my_set = {1, 2, 3}\n",
    "print(my_set)\n",
    "\n",
    "# set of mixed datatypes\n",
    "my_set = {1.0, \"Hello\", (1, 2, 3)}\n",
    "print(my_set)"
   ]
  },
  {
   "cell_type": "code",
   "execution_count": 19,
   "metadata": {
    "colab": {
     "base_uri": "https://localhost:8080/",
     "height": 262
    },
    "id": "ZcyEGXsl_Lne",
    "outputId": "187ed16d-07ff-4821-8e22-c5409dcd87e5"
   },
   "outputs": [
    {
     "name": "stdout",
     "output_type": "stream",
     "text": [
      "{1, 2, 3, 4}\n",
      "{1, 2, 3}\n"
     ]
    }
   ],
   "source": [
    "my_set = {1, 2, 3, 4, 3, 2} # set cannot have duplicates\n",
    "print(my_set)\n",
    "\n",
    "my_set2 = set([1, 2, 3, 2]) # we can make set from a list using set()\n",
    "print(my_set2)\n",
    "\n",
    "# my_set3 = {1, 2, [3, 4]} # set cannot have mutable items, here [3, 4] is a mutable list\n",
    "# print(my_set3)"
   ]
  },
  {
   "cell_type": "code",
   "execution_count": 20,
   "metadata": {
    "colab": {
     "base_uri": "https://localhost:8080/"
    },
    "id": "8yFg_5f3_7Mf",
    "outputId": "53891741-b012-4226-9194-c12c1901c003"
   },
   "outputs": [
    {
     "name": "stdout",
     "output_type": "stream",
     "text": [
      "{1, 3}\n",
      "{1, 2, 3}\n",
      "{1, 2, 3, 4, 6}\n",
      "{1, 2, 3, 4, 5, 6, 8}\n"
     ]
    }
   ],
   "source": [
    "# initialize my_set\n",
    "my_set = {1, 3}\n",
    "print(my_set)\n",
    "# my_set[0] # TypeError: 'set' object does not support indexing\n",
    "\n",
    "# add an element\n",
    "my_set.add(2)\n",
    "print(my_set)\n",
    "\n",
    "my_set.update([6,2,4]) #ascending order\n",
    "print(my_set)\n",
    "\n",
    "my_set.update([4, 5, 6], {1, 6, 8}) # add list and set #unique values only \n",
    "print(my_set)\n",
    "# fset = frozenset(my_set)\n",
    "# print(fset)"
   ]
  },
  {
   "cell_type": "markdown",
   "metadata": {
    "id": "RJ03mH9wEFpp"
   },
   "source": [
    "Dictionaries in Python\n"
   ]
  },
  {
   "cell_type": "code",
   "execution_count": 21,
   "metadata": {
    "colab": {
     "base_uri": "https://localhost:8080/"
    },
    "id": "mSaD4ozgEFTl",
    "outputId": "6f21b53b-844d-4fb8-d22e-bf72afd5afaf"
   },
   "outputs": [
    {
     "name": "stdout",
     "output_type": "stream",
     "text": [
      "{}\n",
      "{1: 'apple', 2: 'ball'}\n",
      "{'name': 'John', 1: [2, 4, 3]}\n",
      "{1: 'apple', 2: 'ball'}\n",
      "{1: 'apple', 2: 'ball'}\n"
     ]
    }
   ],
   "source": [
    "my_dict1 = {}\n",
    "my_dict2 = {1: 'apple' , 2: 'ball' } # dictionary with integer keys\n",
    "my_dict3 = {'name': 'John', 1: [2, 4, 3]} # dictionary with mixed keys\n",
    "my_dict4 = dict({1:'apple', 2:'ball'}) # using dict()\n",
    "my_dict5 = dict([(1,'apple'), (2,'ball')]) # from sequence having each item as a pair\n",
    "print(my_dict1)\n",
    "print(my_dict2)\n",
    "print(my_dict3)\n",
    "print(my_dict4)\n",
    "print(my_dict5)"
   ]
  },
  {
   "cell_type": "code",
   "execution_count": 22,
   "metadata": {
    "colab": {
     "base_uri": "https://localhost:8080/"
    },
    "id": "suGL0tq8_35O",
    "outputId": "72063a19-b285-4cb3-c86e-8aaff67a692d"
   },
   "outputs": [
    {
     "name": "stdout",
     "output_type": "stream",
     "text": [
      "Jack\n",
      "26\n"
     ]
    }
   ],
   "source": [
    "# get vs [] for retrieving elements\n",
    "my_dict1 = {'name': 'Jack', 'age': 26}\n",
    "print(my_dict1['name'])\n",
    "print(my_dict1.get('age'))\n",
    "# print(my_dict1.get('address'))# Trying to access keys which doesn't exist throws error\n",
    "# print(my_dict1['address']) # KeyError"
   ]
  },
  {
   "cell_type": "code",
   "execution_count": 23,
   "metadata": {
    "colab": {
     "base_uri": "https://localhost:8080/"
    },
    "id": "pDcA4KVoFmsn",
    "outputId": "26701917-a165-43b5-ab01-1cdbe4a069cf"
   },
   "outputs": [
    {
     "name": "stdout",
     "output_type": "stream",
     "text": [
      "{'name': 'Jack', 'age': 27}\n",
      "{'name': 'Jack', 'age': 27, 'address': 'Downtown'}\n"
     ]
    }
   ],
   "source": [
    "# Changing and adding Dictionary Elements\n",
    "c_dict = {'name': 'Jack', 'age': 26}\n",
    "\n",
    "# update value\n",
    "c_dict['age'] = 27\n",
    "print(c_dict)\n",
    "\n",
    "# add item\n",
    "c_dict['address'] = 'Downtown'\n",
    "print(c_dict)"
   ]
  },
  {
   "cell_type": "code",
   "execution_count": 24,
   "metadata": {
    "colab": {
     "base_uri": "https://localhost:8080/"
    },
    "id": "GuNUmvov_nz5",
    "outputId": "c6010f0c-f2b0-42e0-eca6-e0babd90ef3e"
   },
   "outputs": [
    {
     "name": "stdout",
     "output_type": "stream",
     "text": [
      "<class 'dict'>\n",
      "<class 'set'>\n"
     ]
    }
   ],
   "source": [
    "# Distinguish set and dictionary while creating empty set\n",
    "\n",
    "# initialize a with {}\n",
    "a = {}\n",
    "\n",
    "# check data type of a\n",
    "print(type(a))\n",
    "\n",
    "# initialize a with set()\n",
    "a = set()\n",
    "\n",
    "# check data type of a\n",
    "print(type(a))"
   ]
  },
  {
   "cell_type": "markdown",
   "metadata": {
    "id": "BGkmebOSKacz"
   },
   "source": [
    "Functions in Python\n"
   ]
  },
  {
   "cell_type": "code",
   "execution_count": 25,
   "metadata": {
    "colab": {
     "base_uri": "https://localhost:8080/"
    },
    "id": "szbu2bOsKcMU",
    "outputId": "ecb0843c-cbf1-433e-df4d-767289b8fc45"
   },
   "outputs": [
    {
     "name": "stdout",
     "output_type": "stream",
     "text": [
      "Hello, Amanda. Good morning!\n"
     ]
    }
   ],
   "source": [
    "def greet(name): #function with parameters\n",
    "    \"\"\"\n",
    "    This function greets to\n",
    "    the person passed in as\n",
    "    a parameter\n",
    "    \"\"\"\n",
    "    print(\"Hello, \" + name + \". Good morning!\")\n",
    "greet('Amanda')    "
   ]
  },
  {
   "cell_type": "code",
   "execution_count": 26,
   "metadata": {
    "colab": {
     "base_uri": "https://localhost:8080/"
    },
    "id": "EuC0qdDRKgV1",
    "outputId": "67055d05-49e8-4969-f2f2-0e7821490733"
   },
   "outputs": [
    {
     "name": "stdout",
     "output_type": "stream",
     "text": [
      "Enter your name: V\n",
      "Hello V\n"
     ]
    }
   ],
   "source": [
    "def hello(): #function without parameters\n",
    "  name = input(\"Enter your name: \")  \n",
    "  if name:\n",
    "    print (\"Hello \" + name)\n",
    "  else:\n",
    "    print(\"Hello World\") \n",
    "  return \n",
    "\n",
    "hello()"
   ]
  },
  {
   "cell_type": "markdown",
   "metadata": {
    "id": "2MNU7ojoSzjA"
   },
   "source": [
    "Anonymos Function"
   ]
  },
  {
   "cell_type": "code",
   "execution_count": 27,
   "metadata": {
    "colab": {
     "base_uri": "https://localhost:8080/"
    },
    "id": "h1406dyZRdWP",
    "outputId": "f5d3aa07-1873-4d71-ed50-5a32f86d9932"
   },
   "outputs": [
    {
     "data": {
      "text/plain": [
       "10"
      ]
     },
     "execution_count": 27,
     "metadata": {},
     "output_type": "execute_result"
    }
   ],
   "source": [
    "double = lambda x: x*2\n",
    "\n",
    "double(5)"
   ]
  },
  {
   "cell_type": "code",
   "execution_count": 28,
   "metadata": {
    "colab": {
     "base_uri": "https://localhost:8080/"
    },
    "id": "zoBNt401SyQ9",
    "outputId": "4295ab84-3869-4dca-8088-0e787d26382b"
   },
   "outputs": [
    {
     "name": "stdout",
     "output_type": "stream",
     "text": [
      "9\n"
     ]
    }
   ],
   "source": [
    "# `sum()` lambda function\n",
    "sum1 = lambda x, y: x + y;\n",
    "\n",
    "# Call the `sum()` anonymous function\n",
    "print(sum1(4,5))\n",
    "\n",
    "# \"Translate\" to a UDF\n",
    "def sum(x, y):\n",
    "  return x+y"
   ]
  },
  {
   "cell_type": "code",
   "execution_count": 29,
   "metadata": {
    "id": "OcsRwTGj7DcI"
   },
   "outputs": [],
   "source": [
    "import pandas "
   ]
  },
  {
   "cell_type": "code",
   "execution_count": null,
   "metadata": {
    "id": "HtXH3WcTsD-s"
   },
   "outputs": [],
   "source": []
  },
  {
   "cell_type": "code",
   "execution_count": null,
   "metadata": {},
   "outputs": [],
   "source": []
  }
 ],
 "metadata": {
  "colab": {
   "name": "Training Day 3",
   "provenance": []
  },
  "kernelspec": {
   "display_name": "Python 3 (ipykernel)",
   "language": "python",
   "name": "python3"
  },
  "language_info": {
   "codemirror_mode": {
    "name": "ipython",
    "version": 3
   },
   "file_extension": ".py",
   "mimetype": "text/x-python",
   "name": "python",
   "nbconvert_exporter": "python",
   "pygments_lexer": "ipython3",
   "version": "3.9.7"
  }
 },
 "nbformat": 4,
 "nbformat_minor": 1
}
