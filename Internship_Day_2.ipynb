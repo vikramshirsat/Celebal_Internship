{
  "nbformat": 4,
  "nbformat_minor": 0,
  "metadata": {
    "colab": {
      "name": "Training Day2.ipynb",
      "provenance": [],
      "collapsed_sections": []
    },
    "kernelspec": {
      "name": "python3",
      "display_name": "Python 3"
    },
    "language_info": {
      "name": "python"
    }
  },
  "cells": [
    {
      "cell_type": "markdown",
      "source": [
        "Mathematical operators In python \n"
      ],
      "metadata": {
        "id": "oCbJ4TWA1iBq"
      }
    },
    {
      "cell_type": "code",
      "source": [
        "x = 5\n",
        "y = 3\n",
        "\n",
        "print('x + y =',x+y)\n",
        "\n",
        "print('x - y =',x-y)\n",
        "\n",
        "print('x * y =',x*y)\n",
        "\n",
        "print('x / y =',x/y)\n",
        "\n",
        "print('x // y =',x//y)\n",
        "\n",
        "print('x ** y =',x**y)"
      ],
      "metadata": {
        "id": "xWPWN4NK1ZRC",
        "colab": {
          "base_uri": "https://localhost:8080/"
        },
        "outputId": "762dad25-9c28-4acc-fefa-c37a73e90088"
      },
      "execution_count": null,
      "outputs": [
        {
          "output_type": "stream",
          "name": "stdout",
          "text": [
            "x + y = 8\n",
            "x - y = 2\n",
            "x * y = 15\n",
            "x / y = 1.6666666666666667\n",
            "x // y = 1\n",
            "x ** y = 125\n"
          ]
        }
      ]
    },
    {
      "cell_type": "markdown",
      "source": [
        " Comparison operators in Python"
      ],
      "metadata": {
        "id": "USMb3SaeC_Eq"
      }
    },
    {
      "cell_type": "code",
      "source": [
        "# Python program to show\n",
        "# shift operators\n",
        "\n",
        "a = 10\n",
        "b = -10\n",
        "\n",
        "# print bitwise right shift operator\n",
        "print(\"a >> 1 =\", a >> 1)\n",
        "print(\"b >> 1 =\", b >> 1)\n",
        "\n",
        "a = 5\n",
        "b = -10\n",
        "\n",
        "# print bitwise left shift operator\n",
        "print(\"a << 1 =\", a << 1)\n",
        "print(\"b << 1 =\", b << 1)"
      ],
      "metadata": {
        "colab": {
          "base_uri": "https://localhost:8080/"
        },
        "id": "HdpDqYJid9oB",
        "outputId": "5348ed5c-65fa-4058-c351-f88ea89ab79c"
      },
      "execution_count": null,
      "outputs": [
        {
          "output_type": "stream",
          "name": "stdout",
          "text": [
            "a >> 1 = 5\n",
            "b >> 1 = -5\n",
            "a << 1 = 10\n",
            "b << 1 = -20\n"
          ]
        }
      ]
    },
    {
      "cell_type": "code",
      "source": [
        "x = 10\n",
        "y = 12\n",
        "\n",
        "print('x > y is',x>y)\n",
        "\n",
        "print('x < y is',x<y)\n",
        "\n",
        "print('x == y is',x==y)\n",
        "\n",
        "print('x != y is',x!=y)\n",
        "\n",
        "print('x >= y is',x>=y)\n",
        "\n",
        "print('x <= y is',x<=y)"
      ],
      "metadata": {
        "id": "IeBlG9WmC5li",
        "colab": {
          "base_uri": "https://localhost:8080/"
        },
        "outputId": "edbfda80-69d0-4340-97d6-e1e6460dcab0"
      },
      "execution_count": null,
      "outputs": [
        {
          "output_type": "stream",
          "name": "stdout",
          "text": [
            "x > y is False\n",
            "x < y is True\n",
            "x == y is False\n",
            "x != y is True\n",
            "x >= y is False\n",
            "x <= y is True\n"
          ]
        }
      ]
    },
    {
      "cell_type": "markdown",
      "source": [
        "Assingment operators \n"
      ],
      "metadata": {
        "id": "if-TRU2eDY7h"
      }
    },
    {
      "cell_type": "code",
      "source": [
        "x = 10\n",
        "#x += 5\n",
        "#x = x + 5\n",
        "\n",
        "# x -= 5\t\n",
        "# x = x - 5\n",
        "\n",
        "#x *= 5\t\n",
        "# x = x * 5\n",
        "\n",
        "#x /= 5\t\n",
        "# = x / 5\n",
        "\n",
        "#x %= 5\t\n",
        "#x = x % 5\n",
        "\n",
        "#x //= 5\t\n",
        "#x = x // 5\n",
        "\n",
        "# x **= 5\t\n",
        "# x = x ** 5\n",
        "\n",
        "# x &= 5\t\n",
        "# x = x & 5\n",
        "\n",
        "# x |= 5\t\n",
        "# x = x | 5\n",
        "\n",
        "# x ^= 5\t\n",
        "# x = x ^ 5\n",
        "\n",
        "# x >>= 5\t\n",
        "# x = x >> 5\n",
        "\n",
        "x <<= 5\t\n",
        "# x = x << 5\n",
        "print(x)"
      ],
      "metadata": {
        "id": "UFizPsQjDYW2",
        "colab": {
          "base_uri": "https://localhost:8080/"
        },
        "outputId": "5d3f57b6-220a-47d0-9a03-c79c6c9bf90a"
      },
      "execution_count": null,
      "outputs": [
        {
          "output_type": "stream",
          "name": "stdout",
          "text": [
            "320\n"
          ]
        }
      ]
    },
    {
      "cell_type": "markdown",
      "source": [
        "Logical Operators"
      ],
      "metadata": {
        "id": "ZTeYG9YaEQlN"
      }
    },
    {
      "cell_type": "code",
      "source": [
        "x = True\n",
        "y = False\n",
        "\n",
        "print('x and y is',x and y)\n",
        "\n",
        "print('x or y is',x or y)\n",
        "\n",
        "print('not x is',not x)"
      ],
      "metadata": {
        "id": "RDFr8ZYZEQKv"
      },
      "execution_count": null,
      "outputs": []
    },
    {
      "cell_type": "markdown",
      "source": [
        "Special operators"
      ],
      "metadata": {
        "id": "rfA3dsKdEU6l"
      }
    },
    {
      "cell_type": "markdown",
      "source": [
        "\n",
        "Identity operators in Python"
      ],
      "metadata": {
        "id": "76OFa1zHDBE5"
      }
    },
    {
      "cell_type": "code",
      "source": [
        "x1 = 5\n",
        "y1 = 5\n",
        "x2 = 'Hello'\n",
        "y2 = 'Hello'\n",
        "x3 = [1,2,3]\n",
        "y3 = [1,2,3]\n",
        "\n",
        "print(x1 is not y1)\n",
        "\n",
        "print(x2 is y2)\n",
        "\n",
        "print(x3 is y3)"
      ],
      "metadata": {
        "id": "Ar7OxtrtDArB"
      },
      "execution_count": null,
      "outputs": []
    },
    {
      "cell_type": "markdown",
      "source": [
        "Membership operators"
      ],
      "metadata": {
        "id": "mFSMnk4cEhGD"
      }
    },
    {
      "cell_type": "code",
      "source": [
        "x = 'Hello world'\n",
        "y = {1:'a',2:'b'}\n",
        "\n",
        "print('H' in x)\n",
        "\n",
        "print('hello' not in x)\n",
        "\n",
        "print(1 in y)\n",
        "\n",
        "print('a' in y)"
      ],
      "metadata": {
        "id": "6QGi7CVzEUnc"
      },
      "execution_count": null,
      "outputs": []
    },
    {
      "cell_type": "markdown",
      "source": [
        "FLOW CONTROL"
      ],
      "metadata": {
        "id": "ejx69yc4FCi4"
      }
    },
    {
      "cell_type": "markdown",
      "source": [
        "if Statement "
      ],
      "metadata": {
        "id": "yT2wDGGIh0ko"
      }
    },
    {
      "cell_type": "code",
      "source": [
        "# If the number is positive, we print an appropriate message\n",
        "\n",
        "num = 3\n",
        "if num > 0:\n",
        "    print(num, \"is a positive number.\")\n",
        "print(\"This is always printed.\")\n",
        "\n"
      ],
      "metadata": {
        "id": "wxRAeeflDGQb",
        "colab": {
          "base_uri": "https://localhost:8080/"
        },
        "outputId": "5c95c8c9-d2b2-451c-c1fe-7e9fdb6143d4"
      },
      "execution_count": null,
      "outputs": [
        {
          "output_type": "stream",
          "name": "stdout",
          "text": [
            "3 is a positive number.\n",
            "This is always printed.\n",
            "This is also always printed.\n"
          ]
        }
      ]
    },
    {
      "cell_type": "code",
      "source": [
        "num = -1\n",
        "if num > 0:\n",
        "    print(num, \"is a positive number.\")\n",
        "print(\"This is also always printed.\")"
      ],
      "metadata": {
        "colab": {
          "base_uri": "https://localhost:8080/"
        },
        "id": "M67YNI0Uf5IR",
        "outputId": "cecb90d2-832b-434a-cd54-073569c079f5"
      },
      "execution_count": null,
      "outputs": [
        {
          "output_type": "stream",
          "name": "stdout",
          "text": [
            "This is also always printed.\n"
          ]
        }
      ]
    },
    {
      "cell_type": "markdown",
      "source": [
        " if...else"
      ],
      "metadata": {
        "id": "kqU32o7SnNf-"
      }
    },
    {
      "cell_type": "code",
      "source": [
        "# Program checks if the number is positive or negative\n",
        "# And displays an appropriate message\n",
        "\n",
        "num = 3\n",
        "\n",
        "# Try these two variations as well. \n",
        "# num = -5\n",
        "# num = 0\n",
        "\n",
        "if num >= 0:\n",
        "    print(\"Positive or Zero\")\n",
        "else:\n",
        "    print(\"Negative number\")"
      ],
      "metadata": {
        "id": "_IeFzLvpDGjp"
      },
      "execution_count": null,
      "outputs": []
    },
    {
      "cell_type": "markdown",
      "source": [
        "if ... elif ...else"
      ],
      "metadata": {
        "id": "LRoE4XGPnGP-"
      }
    },
    {
      "cell_type": "code",
      "source": [
        "'''In this program, \n",
        "we check if the number is positive or\n",
        "negative or zero and \n",
        "display an appropriate message'''\n",
        "\n",
        "num = 3.4\n",
        "\n",
        "# Try these two variations as well:\n",
        "# num = 0\n",
        "# num = -4.5\n",
        "\n",
        "if num > 0:\n",
        "    print(\"Positive number\")\n",
        "elif num == 0:\n",
        "    print(\"Zero\")\n",
        "else:\n",
        "    print(\"Negative number\")"
      ],
      "metadata": {
        "id": "LQJKhTIADG2p"
      },
      "execution_count": null,
      "outputs": []
    },
    {
      "cell_type": "markdown",
      "source": [
        "Nested Ifelse"
      ],
      "metadata": {
        "id": "sSnKJzIwnoZm"
      }
    },
    {
      "cell_type": "code",
      "source": [
        "'''In this program, we input a number\n",
        "check if the number is positive or\n",
        "negative or zero and display\n",
        "an appropriate message\n",
        "This time we use nested if statement'''\n",
        "\n",
        "num = float(input(\"Enter a number: \"))\n",
        "if num >= 0:\n",
        "    if num == 0:\n",
        "        print(\"Zero\")\n",
        "    else:\n",
        "        print(\"Positive number\")\n",
        "else:\n",
        "    print(\"Negative number\")"
      ],
      "metadata": {
        "id": "gE0MhxqaDHIp"
      },
      "execution_count": null,
      "outputs": []
    },
    {
      "cell_type": "markdown",
      "source": [
        "for loop"
      ],
      "metadata": {
        "id": "dIx6SHxDpJwV"
      }
    },
    {
      "cell_type": "code",
      "source": [
        "# Program to find the sum of all numbers stored in a list\n",
        "\n",
        "# List of numbers\n",
        "numbers = [6, 5, 3, 8, 4, 2, 5, 4, 11]\n",
        "\n",
        "# variable to store the sum\n",
        "sum = 0\n",
        "\n",
        "# iterate over the list\n",
        "for val in numbers:\n",
        "    sum = sum+val\n",
        "\n",
        "print(\"The sum is\", sum)\n"
      ],
      "metadata": {
        "id": "TFv7kMVdpGVl"
      },
      "execution_count": null,
      "outputs": []
    },
    {
      "cell_type": "markdown",
      "source": [
        "range "
      ],
      "metadata": {
        "id": "hvbc0iBLpaEl"
      }
    },
    {
      "cell_type": "code",
      "source": [
        "print(range(10))\n",
        "\n",
        "print(list(range(10)))\n",
        "\n",
        "print(list(range(2, 8)))\n",
        "\n",
        "print(list(range(2, 20, 3)))"
      ],
      "metadata": {
        "id": "cpLQ6qn-pYFE"
      },
      "execution_count": null,
      "outputs": []
    },
    {
      "cell_type": "code",
      "source": [
        "# Program to iterate through a list using indexing\n",
        "\n",
        "genre = ['pop', 'rock', 'jazz']\n",
        "\n",
        "# iterate over the list using index\n",
        "for i in range(len(genre)):\n",
        "    print(\"I like\", genre[i])"
      ],
      "metadata": {
        "id": "zas1TysTtM-a"
      },
      "execution_count": null,
      "outputs": []
    },
    {
      "cell_type": "code",
      "source": [
        "digits = [0, 1, 5]\n",
        "\n",
        "for i in digits:\n",
        "    print(i)\n",
        "else:\n",
        "    print(\"No items left.\")"
      ],
      "metadata": {
        "id": "P8A2-QWgtXL5"
      },
      "execution_count": null,
      "outputs": []
    },
    {
      "cell_type": "code",
      "source": [
        "# program to display student's marks from record\n",
        "student_name = 'Soyuj'\n",
        "\n",
        "marks = {'James': 90, 'Jules': 55, 'Arthur': 77}\n",
        "\n",
        "for student in marks:\n",
        "    if student == student_name:\n",
        "        print(marks[student])\n",
        "        break\n",
        "else:\n",
        "    print('No entry with that name found.')"
      ],
      "metadata": {
        "id": "7JvPsZ__tZB6"
      },
      "execution_count": null,
      "outputs": []
    },
    {
      "cell_type": "markdown",
      "source": [
        "While loop\n"
      ],
      "metadata": {
        "id": "Szlc_BKsDHwJ"
      }
    },
    {
      "cell_type": "code",
      "source": [
        "# Program to add natural\n",
        "# numbers up to \n",
        "# sum = 1+2+3+...+n\n",
        "\n",
        "# To take input from the user,\n",
        "# n = int(input(\"Enter n: \"))\n",
        "\n",
        "n = 10\n",
        "\n",
        "# initialize sum and counter\n",
        "sum = 0\n",
        "i = 1\n",
        "\n",
        "while i <= n:\n",
        "    sum = sum + i\n",
        "    i = i+1    # update counter\n",
        "\n",
        "# print the sum\n",
        "print(\"The sum is\", sum)"
      ],
      "metadata": {
        "id": "Nmn6eFq_tfey",
        "colab": {
          "base_uri": "https://localhost:8080/"
        },
        "outputId": "2ed6a186-5b8b-49cc-875e-1d82729cecd9"
      },
      "execution_count": null,
      "outputs": [
        {
          "output_type": "stream",
          "name": "stdout",
          "text": [
            "The sum is 55\n"
          ]
        }
      ]
    },
    {
      "cell_type": "code",
      "source": [
        "'''Example to illustrate\n",
        "the use of else statement\n",
        "with the while loop'''\n",
        "\n",
        "counter = 0\n",
        "\n",
        "while counter < 3:\n",
        "    print(\"Inside loop\")\n",
        "    counter = counter + 1\n",
        "else:\n",
        "    print(\"Inside else\")"
      ],
      "metadata": {
        "id": "-2im_1cXtihD"
      },
      "execution_count": null,
      "outputs": []
    },
    {
      "cell_type": "code",
      "source": [
        "# Use of break statement inside the loop\n",
        "\n",
        "for val in \"string\":\n",
        "    if val == \"i\":\n",
        "        break\n",
        "    print(val)\n",
        "\n",
        "print(\"The end\")"
      ],
      "metadata": {
        "id": "dMepj-P9uAMg",
        "colab": {
          "base_uri": "https://localhost:8080/"
        },
        "outputId": "3dbc0b73-eec8-41dc-eb43-8652901267c1"
      },
      "execution_count": null,
      "outputs": [
        {
          "output_type": "stream",
          "name": "stdout",
          "text": [
            "s\n",
            "t\n",
            "r\n",
            "The end\n"
          ]
        }
      ]
    },
    {
      "cell_type": "code",
      "source": [
        ""
      ],
      "metadata": {
        "id": "9gpFb_eMo0ye"
      },
      "execution_count": null,
      "outputs": []
    },
    {
      "cell_type": "code",
      "source": [
        "# Program to show the use of continue statement inside loops\n",
        "\n",
        "for val in \"string\":\n",
        "    if val == \"i\":\n",
        "        continue\n",
        "    print(val)\n",
        "\n",
        "print(\"The end\")"
      ],
      "metadata": {
        "id": "YMn_w2xYuJ-5",
        "colab": {
          "base_uri": "https://localhost:8080/"
        },
        "outputId": "28825ae1-66bf-4d8e-9025-b2d244dac02d"
      },
      "execution_count": null,
      "outputs": [
        {
          "output_type": "stream",
          "name": "stdout",
          "text": [
            "s\n",
            "t\n",
            "r\n",
            "n\n",
            "g\n",
            "The end\n"
          ]
        }
      ]
    },
    {
      "cell_type": "markdown",
      "source": [
        "pass\n"
      ],
      "metadata": {
        "id": "iaQ1dBV-5hQK"
      }
    },
    {
      "cell_type": "code",
      "source": [
        "'''pass is just a placeholder for\n",
        "functionality to be added later.'''\n",
        "sequence = {'p', 'a', 's', 's'}\n",
        "for val in sequence:\n",
        "    pass"
      ],
      "metadata": {
        "id": "VB4S8U__5m0b"
      },
      "execution_count": null,
      "outputs": []
    },
    {
      "cell_type": "markdown",
      "source": [
        "Difference between pass and continue"
      ],
      "metadata": {
        "id": "nGlPT_QxHOrA"
      }
    },
    {
      "cell_type": "code",
      "source": [
        "for i in 'hello':\n",
        "  if(i == 'e'):\n",
        "    print('pass executed')\n",
        "    pass\n",
        "  print(i)\n",
        "\n",
        "print('----')\n",
        "\n",
        "for i in 'hello':\n",
        "  if(i == 'e'):\n",
        "    print('continue executed')\n",
        "    continue\n",
        "  print(i) "
      ],
      "metadata": {
        "id": "wlyuFwyaHPLd",
        "colab": {
          "base_uri": "https://localhost:8080/"
        },
        "outputId": "8ce21503-eead-4fa8-dcb8-9e8a072e9614"
      },
      "execution_count": null,
      "outputs": [
        {
          "output_type": "stream",
          "name": "stdout",
          "text": [
            "h\n",
            "pass executed\n",
            "e\n",
            "l\n",
            "l\n",
            "o\n",
            "----\n",
            "h\n",
            "continue executed\n",
            "l\n",
            "l\n",
            "o\n"
          ]
        }
      ]
    }
  ]
}