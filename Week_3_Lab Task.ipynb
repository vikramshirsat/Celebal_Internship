{
 "cells": [
  {
   "cell_type": "markdown",
   "metadata": {
    "id": "L0hrKVUsZAQp"
   },
   "source": [
    "**Iterating (for loop)** : List, Tuples, Set, Dictionary "
   ]
  },
  {
   "cell_type": "code",
   "execution_count": 118,
   "metadata": {
    "colab": {
     "base_uri": "https://localhost:8080/"
    },
    "id": "KT9q8-vqPjZ5",
    "outputId": "e20366d2-00f7-45b3-f919-ff9eedb81589"
   },
   "outputs": [
    {
     "name": "stdout",
     "output_type": "stream",
     "text": [
      "2002,2009,2016,2023,2037,2044,2051,2058,2072,2079,2086,2093,2107,2114,2121,2128,2142,2149,2156,2163,2177,2184,2191,2198,2212,2219,2226,2233,2247,2254,2261,2268,2282,2289,2296,2303,2317,2324,2331,2338,2352,2359,2366,2373,2387,2394,2401,2408,2422,2429,2436,2443,2457,2464,2471,2478,2492,2499,2506,2513,2527,2534,2541,2548,2562,2569,2576,2583,2597,2604,2611,2618,2632,2639,2646,2653,2667,2674,2681,2688,2702,2709,2716,2723,2737,2744,2751,2758,2772,2779,2786,2793,2807,2814,2821,2828,2842,2849,2856,2863,2877,2884,2891,2898,2912,2919,2926,2933,2947,2954,2961,2968,2982,2989,2996,3003,3017,3024,3031,3038,3052,3059,3066,3073,3087,3094,3101,3108,3122,3129,3136,3143,3157,3164,3171,3178,3192,3199,"
     ]
    }
   ],
   "source": [
    "'''\n",
    "List\n",
    "program to find all such numbers which are divisible by 7 but are not multiple of 5, between 2000 and 3200(both included) \n",
    "the numbers should be printed in comma seprated sequence.'''\n",
    "for i in range(2000,3200):\n",
    "    if i%7==0 and i%5!=0:\n",
    "        print(i,end=\",\")"
   ]
  },
  {
   "cell_type": "code",
   "execution_count": 119,
   "metadata": {
    "colab": {
     "base_uri": "https://localhost:8080/"
    },
    "id": "F9oYd_5bPyf9",
    "outputId": "d3892466-395e-4c54-e83c-a9de2398cfbd"
   },
   "outputs": [
    {
     "name": "stdout",
     "output_type": "stream",
     "text": [
      "34\n"
     ]
    }
   ],
   "source": [
    "#Tuple\n",
    "tuple1 = (5, 3, 2, 8, 4, 4, 6, 2)\n",
    "sum = 0\n",
    "for num in tuple1:\n",
    "    sum += num   \n",
    "print(sum)"
   ]
  },
  {
   "cell_type": "code",
   "execution_count": 120,
   "metadata": {
    "colab": {
     "base_uri": "https://localhost:8080/"
    },
    "id": "Csm7RRXUQDd5",
    "outputId": "6cfa1180-1c04-4ffc-f7cc-5963fba7f224"
   },
   "outputs": [
    {
     "name": "stdout",
     "output_type": "stream",
     "text": [
      "0 \n",
      "1 \n",
      "2 \n",
      "3 \n",
      "4 \n",
      "5 \n",
      "n i j S a v "
     ]
    }
   ],
   "source": [
    "#Set\n",
    "#Create a set \n",
    "num_set = {0, 1, 2, 3, 4, 5 }\n",
    "for i in num_set:\n",
    "    print(i, end=' \\n')\n",
    "char_set = set('Sanjivani')\n",
    "# Iterating using for loop\n",
    "for val in char_set:\n",
    "    print(val, end=' ')"
   ]
  },
  {
   "cell_type": "code",
   "execution_count": 121,
   "metadata": {
    "colab": {
     "base_uri": "https://localhost:8080/"
    },
    "id": "P3z3RksUQOc1",
    "outputId": "0c87812c-8db0-472f-d5bc-b8506dbea58a"
   },
   "outputs": [
    {
     "name": "stdout",
     "output_type": "stream",
     "text": [
      "is [1, 3, 4, 8, 10]\n",
      "at [3, 10, 15, 7, 9]\n",
      "test [5, 3, 7, 8, 1]\n",
      "this [2, 3, 5, 6, 11]\n",
      "why [10, 3, 9, 8, 12]\n"
     ]
    }
   ],
   "source": [
    "#Dict\n",
    "word_freq = {'is'   : [1, 3, 4, 8, 10],\n",
    "             'at'   : [3, 10, 15, 7, 9],\n",
    "             'test' : [5, 3, 7, 8, 1],\n",
    "             'this' : [2, 3, 5, 6, 11],\n",
    "             'why'  : [10, 3, 9, 8, 12] }\n",
    "for i,j in word_freq.items():\n",
    "    print(i,j)"
   ]
  },
  {
   "cell_type": "markdown",
   "metadata": {
    "id": "lIprimyxRSy-"
   },
   "source": [
    "**Membership Test (in , not in)**- On List,Tuple,Set,Dict"
   ]
  },
  {
   "cell_type": "code",
   "execution_count": 122,
   "metadata": {
    "colab": {
     "base_uri": "https://localhost:8080/"
    },
    "id": "ONFoLDSRRZxj",
    "outputId": "9c7855e4-b089-4a23-b203-4d9930d77062"
   },
   "outputs": [
    {
     "name": "stdout",
     "output_type": "stream",
     "text": [
      "True\n",
      "False\n"
     ]
    }
   ],
   "source": [
    "#List\n",
    "item = 42\n",
    "my_list = [1, 2, 3, 4, 5, 6]\n",
    "print(item not in my_list)\n",
    "print(item in my_list)"
   ]
  },
  {
   "cell_type": "code",
   "execution_count": 123,
   "metadata": {},
   "outputs": [
    {
     "name": "stdout",
     "output_type": "stream",
     "text": [
      "x is NOT present in given list\n",
      "y is present in given list\n"
     ]
    }
   ],
   "source": [
    "#List\n",
    "x = 24\n",
    "y = 20\n",
    "list = [10, 20, 30, 40, 50 ];\n",
    " \n",
    "if ( x not in list ):\n",
    "   print(\"x is NOT present in given list\")\n",
    "else:\n",
    "   print(\"x is  present in given list\")\n",
    " \n",
    "if ( y in list ):\n",
    "   print(\"y is present in given list\")\n",
    "else:\n",
    "   print(\"y is NOT present in given list\")"
   ]
  },
  {
   "cell_type": "code",
   "execution_count": 124,
   "metadata": {
    "colab": {
     "base_uri": "https://localhost:8080/"
    },
    "id": "gfF5KCpORl0w",
    "outputId": "657efab7-186d-47cb-8391-eede06ac19db"
   },
   "outputs": [
    {
     "name": "stdout",
     "output_type": "stream",
     "text": [
      "Line 1 - a is not available in the given tuple\n",
      "Line 2 - b is not available in the given tuple\n",
      "Line 3 - a is available in the given tuple\n"
     ]
    }
   ],
   "source": [
    "#Tuple\n",
    "a = 10\n",
    "b = 20\n",
    "T = (1, 2, 3, 4, 5)\n",
    "\n",
    "if(a in T):\n",
    "    print(\"Line 1 - a is available in the given tuple\")\n",
    "else:\n",
    "    print(\"Line 1 - a is not available in the given tuple\")\n",
    "\n",
    "if(b not in T):\n",
    "    print(\"Line 2 - b is not available in the given tuple\")\n",
    "else:\n",
    "    print(\"Line 2 - b is available in the given tuple\")\n",
    "\n",
    "a = 2\n",
    "if (a in T):\n",
    "    print(\"Line 3 - a is available in the given tuple\")\n",
    "else:\n",
    "    print(\"Line 3 - a is not available in the given tuple\")"
   ]
  },
  {
   "cell_type": "code",
   "execution_count": 125,
   "metadata": {
    "colab": {
     "base_uri": "https://localhost:8080/"
    },
    "id": "lhzLKIRUR6Lw",
    "outputId": "8f1165b9-0be9-48ed-8883-9478a88dc499"
   },
   "outputs": [
    {
     "name": "stdout",
     "output_type": "stream",
     "text": [
      "True\n",
      "False\n"
     ]
    }
   ],
   "source": [
    "#Set\n",
    "print(42 not in {1, 2, 3})\n",
    "print('finxter' not in {'finxter', 'learn', 'python'})"
   ]
  },
  {
   "cell_type": "code",
   "execution_count": 126,
   "metadata": {
    "colab": {
     "base_uri": "https://localhost:8080/"
    },
    "id": "_zcmNZ5dSNZy",
    "outputId": "775bac6e-8fe5-4f9d-9000-9aa0faa3c1e1"
   },
   "outputs": [
    {
     "name": "stdout",
     "output_type": "stream",
     "text": [
      "False\n",
      "False\n",
      "True\n"
     ]
    }
   ],
   "source": [
    "#Dictionary\n",
    "print('a' not in {'a': 1, 'b': 2})\n",
    "\n",
    "print('c' in {'a': 1, 'b': 2})\n",
    "\n",
    "print(43 not in {42: [1, 2], 22: [3, 4]})\n"
   ]
  },
  {
   "cell_type": "markdown",
   "metadata": {
    "id": "j9k8eR8AShsk"
   },
   "source": [
    "**Indexing & Negative Indexing & Slicing** - On List,Tuple,Set,Dict"
   ]
  },
  {
   "cell_type": "code",
   "execution_count": 127,
   "metadata": {},
   "outputs": [
    {
     "name": "stdout",
     "output_type": "stream",
     "text": [
      "[0, 1, 2, 3, 4, 5, 6, 7, 8, 9]\n",
      "7\n",
      "5\n",
      "[0, 1, 2, 3, 4, 5, 6, 7, 8, 9]\n",
      "[2, 3, 4, 5]\n",
      "[9, 8, 7, 6, 5, 4, 3, 2, 1, 0]\n",
      "[1, 2]\n",
      "[0, 1, 2, 3, 4, 5, 6, 7, 8]\n",
      "[0, 1, 2, 3, 4, 5, 6, 7]\n"
     ]
    }
   ],
   "source": [
    "#List\n",
    "lst=[*range(10)]\n",
    "print(lst)\n",
    "print(lst[7])\n",
    "print(lst[-5])\n",
    "print(lst[:])\n",
    "print(lst[2:6])\n",
    "print(lst[::-1])\n",
    "print(lst[-9:-7])\n",
    "print(lst[:-1])\n",
    "print(lst[:-2])"
   ]
  },
  {
   "cell_type": "code",
   "execution_count": 128,
   "metadata": {},
   "outputs": [
    {
     "name": "stdout",
     "output_type": "stream",
     "text": [
      "(22, 3, 45, 4, 2.4, 2, 56, 890, 1)\n",
      "2.4\n",
      "3\n",
      "(45, 4, 2.4, 2)\n",
      "(1, 890, 56, 2, 2.4, 4, 45, 3, 22)\n",
      "(22, 3)\n",
      "(22, 3, 45, 4, 2.4, 2, 56, 890)\n",
      "(22, 3, 45, 4, 2.4, 2, 56)\n"
     ]
    }
   ],
   "source": [
    "#Tuples\n",
    "T=(22, 3, 45, 4, 2.4, 2, 56, 890, 1)\n",
    "print(T)\n",
    "print(T[4])\n",
    "print(T[-8])\n",
    "print(T[2:6])\n",
    "print(T[::-1])\n",
    "print(T[-9:-7])\n",
    "print(T[:-1])\n",
    "print(T[:-2])"
   ]
  },
  {
   "cell_type": "code",
   "execution_count": 129,
   "metadata": {
    "id": "eqrNO8PATjDs"
   },
   "outputs": [],
   "source": [
    "#Set\n",
    "#You cannot access items in a set by referring to an index or a key."
   ]
  },
  {
   "cell_type": "code",
   "execution_count": 130,
   "metadata": {
    "colab": {
     "base_uri": "https://localhost:8080/"
    },
    "id": "vo1G0UoKUDCz",
    "outputId": "de62aab8-7762-4c0a-c1f2-3ac27b50c535"
   },
   "outputs": [
    {
     "name": "stdout",
     "output_type": "stream",
     "text": [
      "Kiran\n",
      "Siddhant\n"
     ]
    }
   ],
   "source": [
    "#Dictionary\n",
    "Fdict = {\n",
    "    'fri1':'Kiran',\n",
    "    'fri2':'Siddhant',\n",
    "    'fri3':'Bhavesh',\n",
    "    'fri4':'Abhay'\n",
    "}\n",
    "\n",
    "print(Fdict['fri1'])\n",
    "print(Fdict.get('fri2'))"
   ]
  },
  {
   "cell_type": "code",
   "execution_count": 131,
   "metadata": {},
   "outputs": [
    {
     "name": "stdout",
     "output_type": "stream",
     "text": [
      "{'Roll_No': 1}\n",
      "1\n",
      "Karan\n"
     ]
    }
   ],
   "source": [
    "#Dictionary\n",
    "Dict = {'Dict1': {'Roll_No': 1},\n",
    "        'Dict2': {'Name': 'Karan'}}\n",
    "print(Dict['Dict1'])\n",
    "print(Dict['Dict1']['Roll_No'])\n",
    "print(Dict['Dict2']['Name'])"
   ]
  },
  {
   "cell_type": "code",
   "execution_count": 132,
   "metadata": {},
   "outputs": [
    {
     "data": {
      "text/plain": [
       "{1: 2, 5: 6}"
      ]
     },
     "execution_count": 132,
     "metadata": {},
     "output_type": "execute_result"
    }
   ],
   "source": [
    "# dictionary Slicing\n",
    "d = {1:2, 3:4, 5:6, 7:8}\n",
    "\n",
    "# the subset of keys I'm interested in\n",
    "l = (1,5)\n",
    "\n",
    "{key:d[key] for key in set(l) & set(d)}\n"
   ]
  },
  {
   "cell_type": "markdown",
   "metadata": {
    "id": "ZhwAXrOgUayR"
   },
   "source": [
    "\n",
    "**Accessing Nested List using Slicing**"
   ]
  },
  {
   "cell_type": "code",
   "execution_count": 133,
   "metadata": {
    "colab": {
     "base_uri": "https://localhost:8080/"
    },
    "id": "R-V-OUn2UdVA",
    "outputId": "c1e70f6d-327a-4f3f-fe1d-b56349759294"
   },
   "outputs": [
    {
     "name": "stdout",
     "output_type": "stream",
     "text": [
      "['cc', 'dd', ['eee', 'fff']]\n",
      "['eee', 'fff']\n",
      "eee\n"
     ]
    }
   ],
   "source": [
    "#List\n",
    "L = ['a', 'b', ['cc', 'dd', ['eee', 'fff']], 'g', 'h']\n",
    "print(L[2])\n",
    "\n",
    "print(L[2][2])\n",
    "\n",
    "print(L[2][2][0])"
   ]
  },
  {
   "cell_type": "code",
   "execution_count": 134,
   "metadata": {
    "colab": {
     "base_uri": "https://localhost:8080/"
    },
    "id": "mYIFOoRHUjnN",
    "outputId": "c941d1b5-87fa-479a-c183-a09e1cacb5ce",
    "scrolled": true
   },
   "outputs": [
    {
     "name": "stdout",
     "output_type": "stream",
     "text": [
      "Y\n",
      "(1, 2, 3)\n",
      "2\n"
     ]
    }
   ],
   "source": [
    "#Tuple\n",
    "t1 =('X', ((1, 2, 3), 'B'), 'Y', 'Z')\n",
    "\n",
    "print(t1[2])\n",
    "\n",
    "print(t1[1][0])\n",
    "\n",
    "print(t1[1][0][1])"
   ]
  },
  {
   "cell_type": "code",
   "execution_count": null,
   "metadata": {},
   "outputs": [],
   "source": []
  }
 ],
 "metadata": {
  "colab": {
   "name": "Assignment_Abhay_Lahare_130.ipynb",
   "provenance": []
  },
  "kernelspec": {
   "display_name": "Python 3 (ipykernel)",
   "language": "python",
   "name": "python3"
  },
  "language_info": {
   "codemirror_mode": {
    "name": "ipython",
    "version": 3
   },
   "file_extension": ".py",
   "mimetype": "text/x-python",
   "name": "python",
   "nbconvert_exporter": "python",
   "pygments_lexer": "ipython3",
   "version": "3.9.7"
  }
 },
 "nbformat": 4,
 "nbformat_minor": 1
}
